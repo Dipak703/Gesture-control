{
 "cells": [
  {
   "cell_type": "code",
   "execution_count": 1,
   "id": "06013a6a-b7f0-4cd5-8f6f-30e892b1c237",
   "metadata": {},
   "outputs": [],
   "source": [
    "import cv2\n",
    "import mediapipe as mp\n",
    "import numpy as np\n",
    "import keyboard"
   ]
  },
  {
   "cell_type": "code",
   "execution_count": 2,
   "id": "0b748a23-ec63-4cee-a1b5-fdf6ba65aa3d",
   "metadata": {},
   "outputs": [],
   "source": [
    "mp_drawing=mp.solutions.drawing_utils\n",
    "mp_pose=mp.solutions.pose\n",
    "mp_hands=mp.solutions.hands"
   ]
  },
  {
   "cell_type": "code",
   "execution_count": 7,
   "id": "2e00972d-c164-4f9f-ac88-88a0ac726cab",
   "metadata": {},
   "outputs": [],
   "source": [
    "def angle(a,b,c):\n",
    "    line =np.arctan2(c.x-b.x,c.y-b.y)-np.arctan2(a.x-b.x,a.y-b.y)\n",
    "    angle=np.abs(line*180/np.pi)\n",
    "    return angle"
   ]
  },
  {
   "cell_type": "code",
   "execution_count": 3,
   "id": "98bc9f74-20f8-4726-a173-ef44fcb44e89",
   "metadata": {},
   "outputs": [],
   "source": [
    "def dist(a,b):\n",
    "    dis = ((a.x-b.x)**2+(a.y-b.y)**2+(a.z-b.z)**2)**0.5\n",
    "    return dis"
   ]
  },
  {
   "cell_type": "code",
   "execution_count": 4,
   "id": "88935220-d4c0-423b-8bb9-c6c2b18b4500",
   "metadata": {},
   "outputs": [
    {
     "name": "stderr",
     "output_type": "stream",
     "text": [
      "C:\\Users\\dipak\\AppData\\Roaming\\Python\\Python312\\site-packages\\google\\protobuf\\symbol_database.py:55: UserWarning: SymbolDatabase.GetPrototype() is deprecated. Please use message_factory.GetMessageClass() instead. SymbolDatabase.GetPrototype() will be removed soon.\n",
      "  warnings.warn('SymbolDatabase.GetPrototype() is deprecated. Please '\n"
     ]
    }
   ],
   "source": [
    "cap=cv2.VideoCapture(0)\n",
    "with mp_hands.Hands(min_detection_confidence=0.5,min_tracking_confidence=0.5) as hands:\n",
    "    \n",
    "    while cap.isOpened():\n",
    "        ret,frame=cap.read()\n",
    "         #img process\n",
    "        img=cv2.cvtColor(frame,cv2.COLOR_BGR2RGB)\n",
    "        img.flags.writeable = False\n",
    "        result = hands.process(img)\n",
    "        img.flags.writeable = True\n",
    "        img=cv2.cvtColor(img,cv2.COLOR_RGB2BGR)\n",
    "        #draw\n",
    "        if result.multi_hand_landmarks:\n",
    "          for hand_landmarks in result.multi_hand_landmarks:\n",
    "            mp_drawing.draw_landmarks(img,hand_landmarks,mp_hands.HAND_CONNECTIONS)\n",
    "            #data colllecting\n",
    "            try:\n",
    "                data = hand_landmarks.landmark\n",
    "            except:\n",
    "                pass\n",
    "            #operation\n",
    "            tp = dist(data[4],data[20])\n",
    "            tm = dist(data[4],data[12])\n",
    "            ti = dist(data[4],data[8])\n",
    "            ptt= dist(data[20],data[17])\n",
    "            itt= dist(data[5],data[8])\n",
    "            mtt = dist(data[9],data[12])\n",
    "            rtt = dist(data[13],data[16])\n",
    "            tr = dist(data[4],data[16])\n",
    "            if ti<0.04:\n",
    "                keyboard.send(\"a\")\n",
    "            if tp<0.04:\n",
    "                keyboard.send(\"d\")\n",
    "            if tm<0.05:\n",
    "                keyboard.send(\"w\")\n",
    "            if tr<0.04:\n",
    "                keyboard.send(\"s\")\n",
    "            if ptt<0.05 and mtt<0.05 and itt<0.05 and rtt < 0.05:\n",
    "                keyboard.send(\"space\")\n",
    "        \n",
    "        \n",
    "        # mp_draw.draw_landmarks(img,result.multi_hand_landmarks, mp_hands.HAND_CONNECTIONS)       \n",
    "        cv2.imshow(\"test\",img)\n",
    "        if cv2.waitKey(10) & 0Xff==ord('q'):\n",
    "            break\n",
    "    cap.release()\n",
    "    cv2.destroyAllWindows()"
   ]
  },
  {
   "cell_type": "code",
   "execution_count": 5,
   "id": "7415b635-f721-481f-bfad-1d2b303c2f2b",
   "metadata": {},
   "outputs": [
    {
     "name": "stdout",
     "output_type": "stream",
     "text": [
      "21\n",
      "<class 'mediapipe.framework.formats.landmark_pb2.NormalizedLandmark'>\n",
      "0.7550875544548035\n"
     ]
    }
   ],
   "source": [
    "print(len(data))\n",
    "# print(data)\n",
    "print(type(data[0]))\n",
    "print(data[0].x)"
   ]
  },
  {
   "cell_type": "code",
   "execution_count": 6,
   "id": "2f4e51bc-b141-4ce0-93dd-01dc526b9275",
   "metadata": {},
   "outputs": [
    {
     "name": "stdout",
     "output_type": "stream",
     "text": [
      "0.16087567861790372\n"
     ]
    }
   ],
   "source": [
    "print(dist(data[4],data[20]))"
   ]
  },
  {
   "cell_type": "code",
   "execution_count": null,
   "id": "92597667-8c4c-40d4-b4ab-95e0be06eba4",
   "metadata": {},
   "outputs": [],
   "source": []
  }
 ],
 "metadata": {
  "kernelspec": {
   "display_name": "Python 3 (ipykernel)",
   "language": "python",
   "name": "python3"
  },
  "language_info": {
   "codemirror_mode": {
    "name": "ipython",
    "version": 3
   },
   "file_extension": ".py",
   "mimetype": "text/x-python",
   "name": "python",
   "nbconvert_exporter": "python",
   "pygments_lexer": "ipython3",
   "version": "3.12.3"
  }
 },
 "nbformat": 4,
 "nbformat_minor": 5
}
